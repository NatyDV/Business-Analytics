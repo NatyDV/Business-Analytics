{
  "nbformat": 4,
  "nbformat_minor": 0,
  "metadata": {
    "colab": {
      "provenance": [],
      "authorship_tag": "ABX9TyOOl5mo10OCLetnH6WTIFTf",
      "include_colab_link": true
    },
    "kernelspec": {
      "name": "python3",
      "display_name": "Python 3"
    },
    "language_info": {
      "name": "python"
    }
  },
  "cells": [
    {
      "cell_type": "markdown",
      "metadata": {
        "id": "view-in-github",
        "colab_type": "text"
      },
      "source": [
        "<a href=\"https://colab.research.google.com/github/NatyDV/Business-Analytics/blob/main/Reto2_%C3%81rbolesdeDecisi%C3%B3n.ipynb\" target=\"_parent\"><img src=\"https://colab.research.google.com/assets/colab-badge.svg\" alt=\"Open In Colab\"/></a>"
      ]
    },
    {
      "cell_type": "markdown",
      "source": [
        "**Reto 2- Árboles de Decisón**\n",
        "\n",
        "0. Cargar las librerias de trabajo"
      ],
      "metadata": {
        "id": "O3spRJsbeDnr"
      }
    },
    {
      "cell_type": "code",
      "source": [
        "import pandas as pd\n",
        "import numpy as np\n",
        "import matplotlib.pyplot as plt\n",
        "\n",
        "#Se trae el modelo\n",
        "from sklearn.tree import DecisionTreeClassifier #Prestamos Interbibliotecario\n",
        "\n",
        "#Para llamar los archivos de Drivve- Sin tener que subirlos\n",
        "from google.colab import drive\n",
        "drive.mount('/content/drive')"
      ],
      "metadata": {
        "id": "rLBxWhmceapx",
        "colab": {
          "base_uri": "https://localhost:8080/"
        },
        "outputId": "92a173a8-5acf-4b02-87e8-2fb1d8b14039"
      },
      "execution_count": 1,
      "outputs": [
        {
          "output_type": "stream",
          "name": "stdout",
          "text": [
            "Mounted at /content/drive\n"
          ]
        }
      ]
    },
    {
      "cell_type": "markdown",
      "source": [
        "1. Se acargan los datos desde el Drive"
      ],
      "metadata": {
        "id": "IETHd6mVgJBy"
      }
    },
    {
      "cell_type": "code",
      "source": [
        "nxl='/content/drive/MyDrive/Colab Notebooks/2. BD2_In_App_Pur_Int.xlsx'\n",
        "XDB=pd.read_excel(nxl,sheet_name=0)\n",
        "XDB=XDB.dropna() #Evita celdas vacías\n",
        "XDB.head()\n",
        "\n",
        "#Seleccionar las variables de interés\n",
        "XD=XDB[['Age','Income','Years','Hours']]\n",
        "XD.head()\n",
        "XD=np.array(XD)   #Convierto las variables en númeroa- Variables de Entrada\n",
        "\n",
        "yd=XDB[['Buy']]; yd=np.array(yd)  #Varaibles de Salida- Convierto a la tabla"
      ],
      "metadata": {
        "id": "WtAcXk92gRkX"
      },
      "execution_count": 2,
      "outputs": []
    },
    {
      "cell_type": "markdown",
      "source": [
        "2. Se procede con la construcción del modelo de Árbol"
      ],
      "metadata": {
        "id": "UJ3jN4bGheEm"
      }
    },
    {
      "cell_type": "code",
      "source": [
        "from re import S\n",
        "mar=DecisionTreeClassifier(criterion='gini',max_depth=4)\n",
        "mar.fit(XD,yd)\n",
        "ydp=mar.predict(XD)   #Estos valores de pronóstico sirven para evaluar modelo\n",
        "\n",
        "#Evaluamos el modelo\n",
        "from sklearn.metrics import confusion_matrix\n",
        "cm=confusion_matrix(yd,ydp)\n",
        "VN=cm[0,0];FP=cm[0,1];FN=cm[1,0];VP=cm[1,1]\n",
        "\n",
        "Ex=(VP+VN)/(VP+VN+FP+FN)\n",
        "Se=VP/(VP+FN); Es=VN/(VN+FP)\n",
        "print('Matriz de Confusión')\n",
        "print(cm)\n",
        "\n",
        "print('Exactitud',Ex)\n",
        "print('Sensibilidad',Se)\n",
        "print('Especificidad', Es)"
      ],
      "metadata": {
        "colab": {
          "base_uri": "https://localhost:8080/"
        },
        "id": "1RYFbmb_hgXi",
        "outputId": "daeb0f57-ed84-4dad-e698-a1f0ac83167a"
      },
      "execution_count": 3,
      "outputs": [
        {
          "output_type": "stream",
          "name": "stdout",
          "text": [
            "Matriz de Confusión\n",
            "[[139  50]\n",
            " [ 11 200]]\n",
            "Exactitud 0.8475\n",
            "Sensibilidad 0.9478672985781991\n",
            "Especificidad 0.7354497354497355\n"
          ]
        }
      ]
    },
    {
      "cell_type": "markdown",
      "source": [
        "3. Se procede con la visualización del arbol"
      ],
      "metadata": {
        "id": "GAGM-IbQiDRp"
      }
    },
    {
      "cell_type": "code",
      "source": [
        "from sklearn.tree import export_graphviz   #Estructura del Árbol\n",
        "from pydotplus import graph_from_dot_data  #Que datos le voy a colocar al árbol\n",
        "from IPython.display import Image\n",
        "from google.colab import files\n",
        "\n",
        "vs=['Age','Income','Years','Hours']      #Estos nombres aparaecen en el árbol\n",
        "\n",
        "dot_data=export_graphviz(mar,feature_names=vs)  #Asegurar nombres del gráfico\n",
        "graph=graph_from_dot_data(dot_data)             #Se hace el gráfico del árbol\n",
        "graph.write_png('arbol.png')                    #Se crea la imagen\n",
        "Image('arbol.png')\n",
        "files.download('arbol.png')"
      ],
      "metadata": {
        "colab": {
          "base_uri": "https://localhost:8080/",
          "height": 17
        },
        "id": "x0wNgvZtiIlg",
        "outputId": "5eb4cc26-69df-4220-d0ae-801050df66b0"
      },
      "execution_count": 4,
      "outputs": [
        {
          "output_type": "display_data",
          "data": {
            "text/plain": [
              "<IPython.core.display.Javascript object>"
            ],
            "application/javascript": [
              "\n",
              "    async function download(id, filename, size) {\n",
              "      if (!google.colab.kernel.accessAllowed) {\n",
              "        return;\n",
              "      }\n",
              "      const div = document.createElement('div');\n",
              "      const label = document.createElement('label');\n",
              "      label.textContent = `Downloading \"${filename}\": `;\n",
              "      div.appendChild(label);\n",
              "      const progress = document.createElement('progress');\n",
              "      progress.max = size;\n",
              "      div.appendChild(progress);\n",
              "      document.body.appendChild(div);\n",
              "\n",
              "      const buffers = [];\n",
              "      let downloaded = 0;\n",
              "\n",
              "      const channel = await google.colab.kernel.comms.open(id);\n",
              "      // Send a message to notify the kernel that we're ready.\n",
              "      channel.send({})\n",
              "\n",
              "      for await (const message of channel.messages) {\n",
              "        // Send a message to notify the kernel that we're ready.\n",
              "        channel.send({})\n",
              "        if (message.buffers) {\n",
              "          for (const buffer of message.buffers) {\n",
              "            buffers.push(buffer);\n",
              "            downloaded += buffer.byteLength;\n",
              "            progress.value = downloaded;\n",
              "          }\n",
              "        }\n",
              "      }\n",
              "      const blob = new Blob(buffers, {type: 'application/binary'});\n",
              "      const a = document.createElement('a');\n",
              "      a.href = window.URL.createObjectURL(blob);\n",
              "      a.download = filename;\n",
              "      div.appendChild(a);\n",
              "      a.click();\n",
              "      div.remove();\n",
              "    }\n",
              "  "
            ]
          },
          "metadata": {}
        },
        {
          "output_type": "display_data",
          "data": {
            "text/plain": [
              "<IPython.core.display.Javascript object>"
            ],
            "application/javascript": [
              "download(\"download_84ae4ed0-ca9a-4aca-98a9-3384793608e2\", \"arbol.png\", 63982)"
            ]
          },
          "metadata": {}
        }
      ]
    },
    {
      "cell_type": "markdown",
      "source": [
        "4. Le calculamos los valores de compra a los solicitantes nuevos"
      ],
      "metadata": {
        "id": "eXKcSnDllYG5"
      }
    },
    {
      "cell_type": "code",
      "source": [
        "XDB2=pd.read_excel(nxl,sheet_name=1)\n",
        "XDB2=XDB2 [['Age','Income','Years','Hours']]\n",
        "XDB2=XDB2.dropna()\n",
        "\n",
        "XD2=np.array(XDB2)\n",
        "ydp2=mar.predict(XD2)\n",
        "XDB2['Buy']=ydp2  #Le pego la columna a la base de datos\n",
        "XDB2.head()\n",
        "\n",
        "X=XDB2.to_excel('NuevosSolicitantes.xlsx')\n",
        "\n",
        "\n",
        "len(ydp2)\n",
        "np.sum(ydp2)  # Compradores\n",
        "len(ydp2)-np.sum(ydp2)    #No compradores\n",
        "\n"
      ],
      "metadata": {
        "colab": {
          "base_uri": "https://localhost:8080/"
        },
        "id": "UQ-c13B7licF",
        "outputId": "e2a48731-4fa7-4692-cb4a-d3cf20c39280"
      },
      "execution_count": 5,
      "outputs": [
        {
          "output_type": "execute_result",
          "data": {
            "text/plain": [
              "1"
            ]
          },
          "metadata": {},
          "execution_count": 5
        }
      ]
    },
    {
      "cell_type": "markdown",
      "source": [
        "**Análisis de resultados**\n",
        "En la base de datos se puede observar un total de 400 personas divididos en 139 que no compraron en la aplicacion (47%) y un total de 211 si lo hicieron (53%). De acuerdo con lo anterior, el modelo arrojo un indice de exactitud cercano al 84.75%, lo que indica que los datos son muy precisos. Además la sensibilidad dió 94.7% indicando que el modelo es muy util para indicar cuantas personas compraron en la app. En cuanto a la especificidad el modelo arrojo un 73.5%, representando que es buena para analizar las personas no compradoras en la aplicación.         \n",
        "\n",
        "En el primero nodo puro es de un ingreso menor o igual a a 63.5 (Icome<= 63.5), lo cual representa una probabilidad del 100% de que los jugadores tengan un igresos menor a este no realicen compras dentro de la aplicación. Por otro lado el segundo nodo puro tiene la regla de que la edad se mayor a 0.5 años (Icome>63.5 AND Years <=1.5 AND Years >0.5) y finalmente el tercer nodo puro tiene la regla de que la edad se mayor a 23 años (Icome>63.5 AND Years <= 1.5 AND Years <=0.5 AND Age >23). Para los nuevos casos las reglas son las siguientes:\n",
        "1. Income>63.5 AND Years >1.5 AND Years > 5.5 AND Income >76.5\n",
        "2. Income >63.5 AND Years <=1.5 AND Years >0.5 (28,0)\n",
        "\n",
        "Segun esto Para el jugador 1 hay un porcentaje de (33%) de que no haga compras en la app y uno de (66%) de que lo haga. Asi mismo para el caso 2 hay un porcentaje de (100%) de que no haga compras en la app y un (0%) que si haga."
      ],
      "metadata": {
        "id": "kdNXr9hvteDu"
      }
    }
  ]
}