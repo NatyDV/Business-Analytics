{
  "nbformat": 4,
  "nbformat_minor": 0,
  "metadata": {
    "colab": {
      "provenance": [],
      "authorship_tag": "ABX9TyPJEPMZdvX88YmhwsF8x2yO",
      "include_colab_link": true
    },
    "kernelspec": {
      "name": "python3",
      "display_name": "Python 3"
    },
    "language_info": {
      "name": "python"
    }
  },
  "cells": [
    {
      "cell_type": "markdown",
      "metadata": {
        "id": "view-in-github",
        "colab_type": "text"
      },
      "source": [
        "<a href=\"https://colab.research.google.com/github/NatyDV/Business-Analytics/blob/main/Reto1_Naive_Bayes.ipynb\" target=\"_parent\"><img src=\"https://colab.research.google.com/assets/colab-badge.svg\" alt=\"Open In Colab\"/></a>"
      ]
    },
    {
      "cell_type": "markdown",
      "source": [
        "**Reto 1- Car Crash - Naive Bayes**\n",
        "0. Cargar las librerias de trabajo"
      ],
      "metadata": {
        "id": "4wtaq_L90wg6"
      }
    },
    {
      "cell_type": "code",
      "source": [
        "import numpy as np #Funciones matemáticas\n",
        "import pandas as pd #Conexión con archivos de Excel\n",
        "\n",
        "from sklearn.naive_bayes import GaussianNB  #Modelo Gaussian Naive Bayes\n",
        "from sklearn.metrics import confusion_matrix #Metricas- Como lo voy a evaluar"
      ],
      "metadata": {
        "id": "yDrucwkn1CLm"
      },
      "execution_count": null,
      "outputs": []
    },
    {
      "cell_type": "markdown",
      "source": [
        "1. Se procede con la carga de los datos"
      ],
      "metadata": {
        "id": "rjb_5kLu2u5m"
      }
    },
    {
      "cell_type": "code",
      "source": [
        "nxl=\"/content/1. BD2_CarCrash.xlsx\"\n",
        "XDB=pd.read_excel(nxl,sheet_name=3)\n",
        "\n",
        "XD=XDB[['Weekday','ViolCat','ClearWeather','Month','Highway','Daylight' ]]\n",
        "XDB=XDB.dropna() #Para evitar celdas vacias\n",
        "XDB.head(100)\n",
        "\n",
        "#Creamos el DataMart\n",
        "XD=XDB[['Weekday','ViolCat','ClearWeather','Month','Daylight']] #Variables Entrada\n",
        "yd=XDB[['Highway']] #Valor Deseado- Aprenda el modelo\n"
      ],
      "metadata": {
        "id": "KKitDsnz20uY"
      },
      "execution_count": null,
      "outputs": []
    },
    {
      "cell_type": "markdown",
      "source": [
        "2. Se procede con la configuración y evaluación del modelo Naive Bayes (Car Crash )"
      ],
      "metadata": {
        "id": "06s_qxDRCgS1"
      }
    },
    {
      "cell_type": "code",
      "source": [
        "mnb=GaussianNB()\n",
        "mnb.fit(XD,yd)\n",
        "\n",
        "#Analizamos los resulatdos arrojados por el modelo\n",
        "u=mnb.theta_ #Son las medias\n",
        "print(\"Las medias de las variables son:\\n \",u)\n",
        "sigma=np.sqrt(mnb.var_) #Obtengo las desviaciones\n",
        "print(\"Los valores de las desviaciones son:\\n\",sigma)\n",
        "\n",
        "#Se procede con el análisis de las variaciones de las variables\n",
        "LS=u+sigma\n",
        "print(\"Los limites superiores para las variables son:\\n \",LS)\n",
        "LI=u-sigma\n",
        "print(\"Los limites inferiores para las variables son:\\n \",LI)\n",
        "\n",
        "#Prediciendo los valores de preaprobación del valor deseado\n",
        "ydp=mnb.predict(XD) #Hizo el pronóstico de los accidentes provocados en autopista\n",
        "\n",
        "#se procede con la evaluación del comportamiento del modelo\n",
        "cm=confusion_matrix(yd,ydp)\n",
        "print(\"La matriz de confusión es \\n\",cm)\n",
        "VN=cm[0,0];FP=cm[0,1];FN=cm[1,0];VP=cm[1,1]\n",
        "\n",
        "Ex=(VP+VN)/len(XD) #Exactitud\n",
        "print(\"La Exactitud del Modelo es:\",Ex)\n",
        "\n",
        "Ter=(FP+FN)/len(XD) #Tasa de error\n",
        "print(\"La Tasa de Error del Modelo es:\",Ter)\n",
        "\n",
        "Sen=VP/(VP+FN) #Sensibilidad\n",
        "print(\"La Sensibilidad del modelos es:\",Sen)\n",
        "\n",
        "Esp=VN/(VN+FP) #Especificidad\n",
        "print(\"La Especificidad del modelo es:\",Esp)\n",
        "\n",
        "Pres=VP/(VP+FP) #Precisión\n",
        "print(\"La Precisión del modelo es:\",Pres)\n",
        "\n",
        "PredNeg=VN/(VN+FN) #Predicción del negativo\n",
        "print(\"La Predicción negativo del modelo es :\",PredNeg)\n",
        "\n",
        "# Número total de datos\n",
        "total_data = len(XDB)\n",
        "print(\"Número total de datos es:\",total_data)\n",
        "\n",
        "np.sum(yd)/len(yd)  #Accidentes en Autopista\n",
        "1-np.sum(yd)/len(yd) #Accidentes no en Autopista\n",
        "\n",
        "#Para evaluar si el accidente fue en la autopista\n",
        "X=np.array([[7,1,1,3,0]])\n",
        "ydsc=mnb.predict(X)\n",
        "print(\"El lugar del accidente es :\",ydsc)\n"
      ],
      "metadata": {
        "colab": {
          "base_uri": "https://localhost:8080/"
        },
        "id": "Hh4lrqojDrPf",
        "outputId": "4d31eb53-9c0e-4b25-af17-31292e057f1f"
      },
      "execution_count": null,
      "outputs": [
        {
          "output_type": "stream",
          "name": "stdout",
          "text": [
            "Las medias de las variables son:\n",
            "  [[3.88945752 6.7778915  0.85261003 5.52548618 0.6814739 ]\n",
            " [3.82417582 4.31538462 0.79450549 5.47417582 0.70934066]]\n",
            "Los valores de las desviaciones son:\n",
            " [[1.92831125 3.63475806 0.35449426 3.27379337 0.46590475]\n",
            " [1.82800803 2.36793707 0.40406253 3.26215279 0.45406663]]\n",
            "Los limites superiores para las variables son:\n",
            "  [[ 5.81776877 10.41264957  1.20710429  8.79927955  1.14737865]\n",
            " [ 5.65218385  6.68332168  1.19856802  8.73632861  1.16340729]]\n",
            "Los limites inferiores para las variables son:\n",
            "  [[1.96114628 3.14313344 0.49811577 2.25169281 0.21556915]\n",
            " [1.9961678  1.94744755 0.39044297 2.21202304 0.25527403]]\n",
            "La matriz de confusión es \n",
            " [[4560  325]\n",
            " [1563  257]]\n",
            "La Exactitud del Modelo es: 0.7184190902311708\n",
            "La Tasa de Error del Modelo es: 0.2815809097688292\n",
            "La Sensibilidad del modelos es: 0.1412087912087912\n",
            "La Especificidad del modelo es: 0.9334698055271239\n",
            "La Precisión del modelo es: 0.4415807560137457\n",
            "La Predicción negativo del modelo es : 0.7447329740323371\n",
            "Número total de datos es: 6705\n",
            "El lugar del accidente es : [0]\n"
          ]
        },
        {
          "output_type": "stream",
          "name": "stderr",
          "text": [
            "/usr/local/lib/python3.10/dist-packages/sklearn/utils/validation.py:1183: DataConversionWarning: A column-vector y was passed when a 1d array was expected. Please change the shape of y to (n_samples, ), for example using ravel().\n",
            "  y = column_or_1d(y, warn=True)\n",
            "/usr/local/lib/python3.10/dist-packages/numpy/core/fromnumeric.py:86: FutureWarning: The behavior of DataFrame.sum with axis=None is deprecated, in a future version this will reduce over both axes and return a scalar. To retain the old behavior, pass axis=0 (or do not pass axis)\n",
            "  return reduction(axis=axis, out=out, **passkwargs)\n",
            "/usr/local/lib/python3.10/dist-packages/sklearn/base.py:465: UserWarning: X does not have valid feature names, but GaussianNB was fitted with feature names\n",
            "  warnings.warn(\n"
          ]
        }
      ]
    },
    {
      "cell_type": "markdown",
      "source": [
        "**Análisis de Resultado** Los resultados arrojados por el modelo propuesto frente al pronóstico de los accidentes en la autopista mostro  una precisión del 44%, lo que indica que 44% de los accidentes positivos han sidos predichos como positivos.La base de datos tiene un total de 6705 registros, de los cuales el 27.14% corresponden a accidentes en autopistas y el 72.86% a accidentes en otras vías.Adicionalmente La variable \"Weekday\" tiene un límite inferior alrededor de 2 y un límite superior alrededor de 5.8, lo que representa que los días más representativos para los accidentes están principalmente en la mitad de la semana. La variable \"ViolCat\" tiene un límite inferior de  3.14 y un límite superior de  10.41, lo que significa que la mayoría de los accidentes varían en severidad desde moderada hasta muy severa, con pocos accidentes muy leves (debajo de 3.14) y muy pocos extremadamente severos (por encima de 10.41). La exactitud del modelo es 71%, esto implica que el modelo tiene una veracidad de los datos razonablemente alta para la clasificación general, aunque su precisión específica para los accidentes en autopistas es menor.  La tasa de error es 28%, lo que indica que el modelo se equivoca en 28 de cada 100 predicciones realizadas. La sensibilidad del modelo es 14%, lo que refleja su baja capacidad para identificar correctamente los accidentes que ocurrieron en autopistas. La especificidad es 93%, indicando que el modelo es muy eficaz para identificar los accidentes que no ocurrieron en autopistas. Finalmente, para una persona con las características ['Weekday', 'ViolCat', 'ClearWeather', 'Month', 'Daylight']=[7,1,1,3,0], el modelo predice que vive en áreas rurales."
      ],
      "metadata": {
        "id": "IV_LFyiGqmwX"
      }
    },
    {
      "cell_type": "markdown",
      "source": [],
      "metadata": {
        "id": "lXe0ibZ8OAER"
      }
    }
  ]
}