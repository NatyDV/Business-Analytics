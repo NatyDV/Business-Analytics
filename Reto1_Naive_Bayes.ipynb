{
  "nbformat": 4,
  "nbformat_minor": 0,
  "metadata": {
    "colab": {
      "provenance": [],
      "authorship_tag": "ABX9TyPJEPMZdvX88YmhwsF8x2yO",
      "include_colab_link": true
    },
    "kernelspec": {
      "name": "python3",
      "display_name": "Python 3"
    },
    "language_info": {
      "name": "python"
    }
  },
  "cells": [
    {
      "cell_type": "markdown",
      "metadata": {
        "id": "view-in-github",
        "colab_type": "text"
      },
      "source": [
        "<a href=\"https://colab.research.google.com/github/NatyDV/Business-Analytics/blob/main/Reto1_Naive_Bayes.ipynb\" target=\"_parent\"><img src=\"https://colab.research.google.com/assets/colab-badge.svg\" alt=\"Open In Colab\"/></a>"
      ]
    },
    {
      "cell_type": "markdown",
      "source": [
        "**Reto 1- Car Crash - Naive Bayes**\n",
        "0. Cargar las librerias de trabajo"
      ],
      "metadata": {
        "id": "4wtaq_L90wg6"
      }
    },
    {
      "cell_type": "code",
      "source": [
        "import numpy as np #Funciones matemáticas\n",
        "import pandas as pd #Conexión con archivos de Excel\n",
        "\n",
        "from sklearn.naive_bayes import GaussianNB  #Modelo Gaussian Naive Bayes\n",
        "from sklearn.metrics import confusion_matrix #Metricas- Como lo voy a evaluar"
      ],
      "metadata": {
        "id": "yDrucwkn1CLm"
      },
      "execution_count": null,
      "outputs": []
    },
    {
      "cell_type": "markdown",
      "source": [
        "1. Se procede con la carga de los datos"
      ],
      "metadata": {
        "id": "rjb_5kLu2u5m"
      }
    },
    {
      "cell_type": "code",
      "source": [
        "nxl=\"/content/1. BD2_CarCrash.xlsx\"\n",
        "XDB=pd.read_excel(nxl,sheet_name=3)\n",
        "\n",
        "XD=XDB[['Weekday','ViolCat','ClearWeather','Month','Highway','Daylight' ]]\n",
        "XDB=XDB.dropna() #Para evitar celdas vacias\n",
        "XDB.head(100)\n",
        "\n",
        "#Creamos el DataMart\n",
        "XD=XDB[['Weekday','ViolCat','ClearWeather','Month','Daylight']] #Variables Entrada\n",
        "yd=XDB[['Highway']] #Valor Deseado- Aprenda el modelo\n"
      ],
      "metadata": {
        "id": "KKitDsnz20uY"
      },
      "execution_count": null,
      "outputs": []
    },
    {
      "cell_type": "markdown",
      "source": [
        "2. Se procede con la configuración y evaluación del modelo Naive Bayes (Car Crash )"
      ],
      "metadata": {
        "id": "06s_qxDRCgS1"
      }
    },
    {
      "cell_type": "code",
      "source": [
        "mnb=GaussianNB()\n",
        "mnb.fit(XD,yd)\n",
        "\n",
        "#Analizamos los resulatdos arrojados por el modelo\n",
        "u=mnb.theta_ #Son las medias\n",
        "print(\"Las medias de las variables son:\\n \",u)\n",
        "sigma=np.sqrt(mnb.var_) #Obtengo las desviaciones\n",
        "print(\"Los valores de las desviaciones son:\\n\",sigma)\n",
        "\n",
        "#Se procede con el análisis de las variaciones de las variables\n",
        "LS=u+sigma\n",
        "print(\"Los limites superiores para las variables son:\\n \",LS)\n",
        "LI=u-sigma\n",
        "print(\"Los limites inferiores para las variables son:\\n \",LI)\n",
        "\n",
        "#Prediciendo los valores de preaprobación del valor deseado\n",
        "ydp=mnb.predict(XD) #Hizo el pronóstico de los accidentes provocados en autopista\n",
        "\n",
        "#se procede con la evaluación del comportamiento del modelo\n",
        "cm=confusion_matrix(yd,ydp)\n",
        "print(\"La matriz de confusión es \\n\",cm)\n",
        "VN=cm[0,0];FP=cm[0,1];FN=cm[1,0];VP=cm[1,1]\n",
        "\n",
        "Ex=(VP+VN)/len(XD) #Exactitud\n",
        "print(\"La Exactitud del Modelo es:\",Ex)\n",
        "\n",
        "Ter=(FP+FN)/len(XD) #Tasa de error\n",
        "print(\"La Tasa de Error del Modelo es:\",Ter)\n",
        "\n",
        "Sen=VP/(VP+FN) #Sensibilidad\n",
        "print(\"La Sensibilidad del modelos es:\",Sen)\n",
        "\n",
        "Esp=VN/(VN+FP) #Especificidad\n",
        "print(\"La Especificidad del modelo es:\",Esp)\n",
        "\n",
        "Pres=VP/(VP+FP) #Precisión\n",
        "print(\"La Precisión del modelo es:\",Pres)\n",
        "\n",
        "PredNeg=VN/(VN+FN) #Predicción del negativo\n",
        "print(\"La Predicción negativo del modelo es :\",PredNeg)\n",
        "\n",
        "# Número total de datos\n",
        "total_data = len(XDB)\n",
        "print(\"Número total de datos es:\",total_data)\n",
        "\n",
        "np.sum(yd)/len(yd)  #Accidentes en Autopista\n",
        "1-np.sum(yd)/len(yd) #Accidentes no en Autopista\n",
        "\n",
        "#Para evaluar si el accidente fue en la autopista\n",
        "X=np.array([[7,1,1,3,0]])\n",
        "ydsc=mnb.predict(X)\n",
        "print(\"El lugar del accidente es :\",ydsc)\n"
      ],
      "metadata": {
        "colab": {
          "base_uri": "https://localhost:8080/",
          "height": 211
        },
        "id": "Hh4lrqojDrPf",
        "outputId": "184725da-21c6-4ece-b7c4-24545b672d9e"
      },
      "execution_count": null,
      "outputs": [
        {
          "output_type": "error",
          "ename": "NameError",
          "evalue": "name 'XDB' is not defined",
          "traceback": [
            "\u001b[0;31m---------------------------------------------------------------------------\u001b[0m",
            "\u001b[0;31mNameError\u001b[0m                                 Traceback (most recent call last)",
            "\u001b[0;32m<ipython-input-1-45018168538d>\u001b[0m in \u001b[0;36m<cell line: 2>\u001b[0;34m()\u001b[0m\n\u001b[1;32m      1\u001b[0m \u001b[0;31m# Número total de datos\u001b[0m\u001b[0;34m\u001b[0m\u001b[0;34m\u001b[0m\u001b[0m\n\u001b[0;32m----> 2\u001b[0;31m \u001b[0mtotal_data\u001b[0m \u001b[0;34m=\u001b[0m \u001b[0mlen\u001b[0m\u001b[0;34m(\u001b[0m\u001b[0mXDB\u001b[0m\u001b[0;34m)\u001b[0m\u001b[0;34m\u001b[0m\u001b[0;34m\u001b[0m\u001b[0m\n\u001b[0m\u001b[1;32m      3\u001b[0m \u001b[0mprint\u001b[0m\u001b[0;34m(\u001b[0m\u001b[0;34m\"Número total de datos es:\"\u001b[0m\u001b[0;34m,\u001b[0m\u001b[0mtotal_data\u001b[0m\u001b[0;34m)\u001b[0m\u001b[0;34m\u001b[0m\u001b[0;34m\u001b[0m\u001b[0m\n\u001b[1;32m      4\u001b[0m \u001b[0;34m\u001b[0m\u001b[0m\n\u001b[1;32m      5\u001b[0m \u001b[0mnp\u001b[0m\u001b[0;34m.\u001b[0m\u001b[0msum\u001b[0m\u001b[0;34m(\u001b[0m\u001b[0myd\u001b[0m\u001b[0;34m)\u001b[0m\u001b[0;34m/\u001b[0m\u001b[0mlen\u001b[0m\u001b[0;34m(\u001b[0m\u001b[0myd\u001b[0m\u001b[0;34m)\u001b[0m  \u001b[0;31m#Accidentes en Autopista\u001b[0m\u001b[0;34m\u001b[0m\u001b[0;34m\u001b[0m\u001b[0m\n",
            "\u001b[0;31mNameError\u001b[0m: name 'XDB' is not defined"
          ]
        }
      ]
    },
    {
      "cell_type": "markdown",
      "source": [
        "**Análisis de Resultado** Los resultados arrojados por el modelo propuesto frente al pronóstico de los accidentes en la autopista mostro  una precisión del 44%, lo que indica que 44% de los accidentes positivos han sidos predichos como positivos.La base de datos tiene un total de 6705 registros, de los cuales el 27.14% corresponden a accidentes en autopistas y el 72.86% a accidentes en otras vías.Adicionalmente La variable \"Weekday\" tiene un límite inferior alrededor de 2 y un límite superior alrededor de 5.8, lo que representa que los días más representativos para los accidentes están principalmente en la mitad de la semana. La variable \"ViolCat\" tiene un límite inferior de  3.14 y un límite superior de  10.41, lo que significa que la mayoría de los accidentes varían en severidad desde moderada hasta muy severa, con pocos accidentes muy leves (debajo de 3.14) y muy pocos extremadamente severos (por encima de 10.41). La exactitud del modelo es 71%, esto implica que el modelo tiene una veracidad de los datos razonablemente alta para la clasificación general, aunque su precisión específica para los accidentes en autopistas es menor.  La tasa de error es 28%, lo que indica que el modelo se equivoca en 28 de cada 100 predicciones realizadas. La sensibilidad del modelo es 14%, lo que refleja su baja capacidad para identificar correctamente los accidentes que ocurrieron en autopistas. La especificidad es 93%, indicando que el modelo es muy eficaz para identificar los accidentes que no ocurrieron en autopistas. Finalmente, para una persona con las características ['Weekday', 'ViolCat', 'ClearWeather', 'Month', 'Daylight']=[7,1,1,3,0], el modelo predice que vive en áreas rurales."
      ],
      "metadata": {
        "id": "IV_LFyiGqmwX"
      }
    },
    {
      "cell_type": "markdown",
      "source": [],
      "metadata": {
        "id": "lXe0ibZ8OAER"
      }
    }
  ]
}